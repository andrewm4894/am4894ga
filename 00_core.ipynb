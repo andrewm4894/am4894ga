{
 "cells": [
  {
   "cell_type": "code",
   "execution_count": null,
   "metadata": {},
   "outputs": [],
   "source": [
    "# default_exp core"
   ]
  },
  {
   "cell_type": "markdown",
   "metadata": {},
   "source": [
    "# core\n",
    "\n",
    "> core stuff."
   ]
  },
  {
   "cell_type": "code",
   "execution_count": null,
   "metadata": {},
   "outputs": [],
   "source": [
    "# hide\n",
    "from nbdev.showdoc import *"
   ]
  },
  {
   "cell_type": "code",
   "execution_count": null,
   "metadata": {},
   "outputs": [],
   "source": [
    "# export\n",
    "\n",
    "from apiclient.discovery import build\n",
    "from oauth2client.service_account import ServiceAccountCredentials\n",
    "\n",
    "import os\n",
    "from dotenv import load_dotenv\n",
    "import pandas as pd\n",
    "load_dotenv()\n",
    "\n",
    "SCOPES = ['https://www.googleapis.com/auth/analytics.readonly']\n",
    "KEY_FILE_LOCATION = os.getenv('GOOGLE_APPLICATION_CREDENTIALS')\n",
    "\n",
    "if KEY_FILE_LOCATION:\n",
    "    credentials = ServiceAccountCredentials.from_json_keyfile_name(KEY_FILE_LOCATION, SCOPES)\n",
    "else:\n",
    "    credentials = None"
   ]
  },
  {
   "cell_type": "code",
   "execution_count": null,
   "metadata": {},
   "outputs": [],
   "source": [
    "# export\n",
    "\n",
    "\n",
    "def ga_to_df(start_date: str, end_date: str, metrics: list, dimensions: list, filters: list = None, view_id = None) -> pd.DataFrame:\n",
    "    analytics = build('analyticsreporting', 'v4', credentials=credentials)\n",
    "    if not view_id:\n",
    "        view_id = os.getenv('GOOGLE_ANALYTICS_VIEW_ID')\n",
    "    qry = {\n",
    "        'dateRanges': [{'startDate': start_date, 'endDate': end_date}],\n",
    "        'metrics': [{'expression': m} for m in metrics],\n",
    "        'dimensions': [{'name': m} for m in dimensions],\n",
    "    }\n",
    "    if filters:\n",
    "        qry['dimensionFilterClauses'] = [\n",
    "            {'operator': f[0], 'filters': [{'dimensionName': f[1][0], 'operator': f[1][1], 'expressions': f[1][2]}]}\n",
    "            for f in filters\n",
    "        ]\n",
    "    qry['viewId'] = view_id\n",
    "    request_list = [qry]\n",
    "    response = analytics.reports().batchGet(body={'reportRequests': request_list}).execute()\n",
    "    data = []\n",
    "    for report in response.get('reports'):\n",
    "        dimensions = report.get('columnHeader').get('dimensions')\n",
    "        metrics = [x['name'] for x in report.get('columnHeader').get('metricHeader').get('metricHeaderEntries')]\n",
    "        for row in report.get('data').get('rows'):\n",
    "            dimensions_data = row.get('dimensions', [])\n",
    "            metrics_data = [x['values'] for x in row.get('metrics', [])][0]\n",
    "            metrics_data = [float(x) for x in metrics_data]\n",
    "            colnames = dimensions + metrics\n",
    "            data_row = dimensions_data + metrics_data\n",
    "            data.append(data_row)\n",
    "    df = pd.DataFrame(data, columns=colnames)\n",
    "    return df\n",
    "\n"
   ]
  },
  {
   "cell_type": "code",
   "execution_count": null,
   "metadata": {},
   "outputs": [],
   "source": [
    "# test\n",
    "\n",
    "# make a example query\n",
    "start_date = '7daysAgo'\n",
    "end_date = 'today'\n",
    "metrics = ['ga:users', 'ga:sessions', 'ga:pageviews']\n",
    "dimensions = ['ga:date', 'ga:country']\n",
    "filters = [['AND', ['ga:country', 'IN_LIST', ['United States', 'Ireland']]]]\n",
    "df = ga_to_df(start_date, end_date, metrics, dimensions, filters)\n",
    "\n",
    "#print(df)\n",
    "\n",
    "# check have realistic looking data\n",
    "assert df['ga:sessions'].sum() >= 0\n",
    "assert df['ga:pageviews'].sum() >= 0\n",
    "assert df['ga:pageviews'].sum() >= df['ga:sessions'].sum()"
   ]
  },
  {
   "cell_type": "code",
   "execution_count": null,
   "metadata": {},
   "outputs": [],
   "source": []
  },
  {
   "cell_type": "code",
   "execution_count": null,
   "metadata": {},
   "outputs": [],
   "source": []
  },
  {
   "cell_type": "code",
   "execution_count": null,
   "metadata": {},
   "outputs": [],
   "source": []
  }
 ],
 "metadata": {
  "kernelspec": {
   "display_name": "Python 3",
   "language": "python",
   "name": "python3"
  }
 },
 "nbformat": 4,
 "nbformat_minor": 4
}
