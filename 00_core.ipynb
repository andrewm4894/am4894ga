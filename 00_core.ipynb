{
 "cells": [
  {
   "cell_type": "code",
   "execution_count": null,
   "metadata": {},
   "outputs": [],
   "source": [
    "# default_exp core"
   ]
  },
  {
   "cell_type": "markdown",
   "metadata": {},
   "source": [
    "# core\n",
    "\n",
    "> core stuff."
   ]
  },
  {
   "cell_type": "code",
   "execution_count": null,
   "metadata": {},
   "outputs": [],
   "source": [
    "# hide\n",
    "from nbdev.showdoc import *"
   ]
  },
  {
   "cell_type": "code",
   "execution_count": null,
   "metadata": {},
   "outputs": [],
   "source": [
    "# export\n",
    "\n",
    "from apiclient.discovery import build\n",
    "from oauth2client.service_account import ServiceAccountCredentials\n",
    "\n",
    "import os\n",
    "from dotenv import load_dotenv\n",
    "import pandas as pd\n",
    "load_dotenv()\n",
    "\n",
    "SCOPES = ['https://www.googleapis.com/auth/analytics.readonly']\n",
    "KEY_FILE_LOCATION = os.getenv('GOOGLE_APPLICATION_CREDENTIALS')\n",
    "\n",
    "credentials = ServiceAccountCredentials.from_json_keyfile_name(KEY_FILE_LOCATION, SCOPES)"
   ]
  },
  {
   "cell_type": "code",
   "execution_count": null,
   "metadata": {},
   "outputs": [],
   "source": [
    "# export\n",
    "\n",
    "\n",
    "def ga_to_df(qry: dict, view_id = None) -> pd.DataFrame:\n",
    "    if not view_id:\n",
    "        view_id = os.getenv('GOOGLE_ANALYTICS_VIEW_ID')\n",
    "    qry['viewId'] = view_id\n",
    "    analytics = build('analyticsreporting', 'v4', credentials=credentials)\n",
    "    request_list = [qry]\n",
    "    response = analytics.reports().batchGet(body={'reportRequests': request_list}).execute()\n",
    "    data = []\n",
    "    for report in response.get('reports'):\n",
    "        dimensions = report.get('columnHeader').get('dimensions')\n",
    "        metrics = [x['name'] for x in report.get('columnHeader').get('metricHeader').get('metricHeaderEntries')]\n",
    "        for row in report.get('data').get('rows'):\n",
    "            dimensions_data = row.get('dimensions', [])\n",
    "            metrics_data = [x['values'] for x in row.get('metrics', [])][0]\n",
    "            metrics_data = [float(x) for x in metrics_data]\n",
    "            colnames = dimensions + metrics\n",
    "            data_row = dimensions_data + metrics_data\n",
    "            data.append(data_row)\n",
    "    df = pd.DataFrame(data, columns=colnames)\n",
    "    return df\n",
    "\n"
   ]
  },
  {
   "cell_type": "code",
   "execution_count": null,
   "metadata": {},
   "outputs": [],
   "source": [
    "# test\n",
    "\n",
    "# make a example query\n",
    "qry = {\n",
    "    'dateRanges': [{'startDate': '7daysAgo', 'endDate': 'today'}],\n",
    "    'metrics': [{'expression': 'ga:sessions'}, {'expression': 'ga:pageviews'}],\n",
    "    'dimensions': [{'name': 'ga:date'}, {'name': 'ga:country'}]\n",
    "}\n",
    "\n",
    "# get the df\n",
    "df = ga_to_df(qry)\n",
    "\n",
    "# check have realistic looking data\n",
    "assert df['ga:sessions'].sum() >= 0\n",
    "assert df['ga:pageviews'].sum() >= 0\n",
    "assert df['ga:pageviews'].sum() >= df['ga:sessions'].sum()"
   ]
  },
  {
   "cell_type": "code",
   "execution_count": null,
   "metadata": {},
   "outputs": [],
   "source": []
  },
  {
   "cell_type": "code",
   "execution_count": null,
   "metadata": {},
   "outputs": [],
   "source": []
  },
  {
   "cell_type": "code",
   "execution_count": null,
   "metadata": {},
   "outputs": [],
   "source": []
  }
 ],
 "metadata": {
  "kernelspec": {
   "display_name": "Python 3",
   "language": "python",
   "name": "python3"
  }
 },
 "nbformat": 4,
 "nbformat_minor": 4
}
